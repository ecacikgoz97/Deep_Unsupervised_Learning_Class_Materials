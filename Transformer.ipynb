{
 "cells": [
  {
   "cell_type": "markdown",
   "id": "cf793cdf",
   "metadata": {},
   "source": [
    "# Imports"
   ]
  },
  {
   "cell_type": "code",
   "execution_count": 1,
   "id": "760bf1c8",
   "metadata": {},
   "outputs": [
    {
     "name": "stdout",
     "output_type": "stream",
     "text": [
      "Using device: cuda\n"
     ]
    }
   ],
   "source": [
    "import torch\n",
    "from torch import nn, Tensor\n",
    "import torch.nn.functional as F\n",
    "from torch.utils.data import dataset\n",
    "from torchtext.datasets import WikiText2\n",
    "from torchtext.data.utils import get_tokenizer\n",
    "from torchtext.vocab import build_vocab_from_iterator\n",
    "\n",
    "import math, copy, time\n",
    "from typing import Tuple\n",
    "torch.manual_seed(547)\n",
    "\n",
    "device = torch.device('cuda' if torch.cuda.is_available() else 'cpu')\n",
    "print('Using device:', device)"
   ]
  },
  {
   "cell_type": "markdown",
   "id": "56fcf66d",
   "metadata": {},
   "source": [
    "# Data Pre-Process"
   ]
  },
  {
   "cell_type": "code",
   "execution_count": 2,
   "id": "b45b5041",
   "metadata": {},
   "outputs": [],
   "source": [
    "train_iter = WikiText2(split='train')\n",
    "tokenizer = get_tokenizer('basic_english')\n",
    "vocab = build_vocab_from_iterator(map(tokenizer, train_iter), specials=['<unk>'])\n",
    "vocab.set_default_index(vocab['<unk>'])\n",
    "\n",
    "def data_process(raw_text_iter):\n",
    "    \"\"\"Converts raw text into a flat Tensor.\"\"\"\n",
    "    data = [torch.tensor(vocab(tokenizer(item)), dtype=torch.long) for item in raw_text_iter]\n",
    "    return torch.cat(tuple(filter(lambda t: t.numel() > 0, data)))\n",
    "\n",
    "# train_iter was \"consumed\" by the process of building the vocab,\n",
    "# so we have to create it again\n",
    "train_iter, val_iter, test_iter = WikiText2()\n",
    "train_data, val_data, test_data = data_process(train_iter), data_process(val_iter), data_process(test_iter)\n",
    "\n",
    "def batchify(data, bsz):\n",
    "    \"\"\"Divides the data into bsz separate sequences, removing extra elements\n",
    "    that wouldn't cleanly fit.\n",
    "\n",
    "    Args:\n",
    "        data: Tensor, shape [N]\n",
    "        bsz: int, batch size\n",
    "    Returns:\n",
    "        Tensor of shape [N // bsz, bsz]\n",
    "    \"\"\"\n",
    "    seq_len = data.size(0) // bsz\n",
    "    data = data[:seq_len * bsz]\n",
    "    data = data.view(bsz, seq_len).t().contiguous()\n",
    "    return data.to(device)\n",
    "\n",
    "batch_size, eval_batch_size = 20, 10\n",
    "# shape [seq_len, batch_size]\n",
    "train_data, val_data, test_data = batchify(train_data, batch_size), batchify(val_data, eval_batch_size), batchify(test_data, eval_batch_size)"
   ]
  },
  {
   "cell_type": "code",
   "execution_count": 3,
   "id": "27d721c0",
   "metadata": {},
   "outputs": [],
   "source": [
    "bptt = 35\n",
    "def get_batch(source, i):\n",
    "    \"\"\"\n",
    "    Args:\n",
    "        source: Tensor, shape [full_seq_len, batch_size]\n",
    "        i: int\n",
    "\n",
    "    Returns:\n",
    "        tuple (data, target), where data has shape [seq_len, batch_size] and\n",
    "        target has shape [seq_len * batch_size]\n",
    "    \"\"\"\n",
    "    seq_len = min(bptt, len(source) - 1 - i)\n",
    "    data = source[i:i+seq_len]\n",
    "    target = source[i+1:i+1+seq_len].reshape(-1)\n",
    "    return data, target"
   ]
  },
  {
   "cell_type": "markdown",
   "id": "e0b3bf45",
   "metadata": {},
   "source": [
    "# Model"
   ]
  },
  {
   "cell_type": "code",
   "execution_count": 4,
   "id": "34ce4b47",
   "metadata": {},
   "outputs": [],
   "source": [
    "class TransformerModel(nn.Module):\n",
    "\n",
    "    def __init__(self, ntoken, d_model, nhead, d_hid, nlayers, dropout=0.5):\n",
    "        super().__init__()\n",
    "        self.model_type = 'Transformer'\n",
    "        self.d_model = d_model\n",
    "        self.encoder = nn.Embedding(ntoken, d_model)\n",
    "        self.pos_encoder = PositionalEncoding(d_model, dropout)\n",
    "        encoder_layers = nn.TransformerEncoderLayer(d_model, nhead, d_hid, dropout)\n",
    "        self.transformer_encoder = nn.TransformerEncoder(encoder_layers, nlayers)\n",
    "        self.decoder = nn.Linear(d_model, ntoken)\n",
    "\n",
    "        self.init_weights()\n",
    "\n",
    "    def init_weights(self):\n",
    "        initrange = 0.1\n",
    "        self.encoder.weight.data.uniform_(-initrange, initrange)\n",
    "        self.decoder.bias.data.zero_()\n",
    "        self.decoder.weight.data.uniform_(-initrange, initrange)\n",
    "\n",
    "    def forward(self, src, src_mask):\n",
    "        \"\"\"\n",
    "        Args:\n",
    "            src: Tensor, shape [seq_len, batch_size]\n",
    "            src_mask: Tensor, shape [seq_len, seq_len]\n",
    "\n",
    "        Returns:\n",
    "            output Tensor of shape [seq_len, batch_size, ntoken]\n",
    "        \"\"\"\n",
    "        src = self.encoder(src) * math.sqrt(self.d_model)\n",
    "        src = self.pos_encoder(src)\n",
    "        output = self.transformer_encoder(src, src_mask)\n",
    "        output = self.decoder(output)\n",
    "        return output\n",
    "\n",
    "\n",
    "def generate_square_subsequent_mask(sz):\n",
    "    \"\"\"Generates an upper-triangular matrix of -inf, with zeros on diag.\"\"\"\n",
    "    return torch.triu(torch.ones(sz, sz) * float('-inf'), diagonal=1)"
   ]
  },
  {
   "cell_type": "code",
   "execution_count": 5,
   "id": "087c6d2b",
   "metadata": {},
   "outputs": [],
   "source": [
    "class PositionalEncoding(nn.Module):\n",
    "\n",
    "    def __init__(self, d_model, dropout=0.1, max_len=5000):\n",
    "        super().__init__()\n",
    "        self.dropout = nn.Dropout(p=dropout)\n",
    "\n",
    "        position = torch.arange(max_len).unsqueeze(1)\n",
    "        div_term = torch.exp(torch.arange(0, d_model, 2) * (-math.log(10000.0) / d_model))\n",
    "        pe = torch.zeros(max_len, 1, d_model)\n",
    "        pe[:, 0, 0::2] = torch.sin(position * div_term)\n",
    "        pe[:, 0, 1::2] = torch.cos(position * div_term)\n",
    "        self.register_buffer('pe', pe)\n",
    "\n",
    "    def forward(self, x):\n",
    "        \"\"\"\n",
    "        Args:\n",
    "            x: Tensor, shape [seq_len, batch_size, embedding_dim]\n",
    "        \"\"\"\n",
    "        x = x + self.pe[:x.size(0)]\n",
    "        return self.dropout(x)"
   ]
  },
  {
   "cell_type": "markdown",
   "id": "3dfcc8d6",
   "metadata": {},
   "source": [
    "# Configurations"
   ]
  },
  {
   "cell_type": "code",
   "execution_count": 6,
   "id": "76bc42b9",
   "metadata": {},
   "outputs": [
    {
     "name": "stdout",
     "output_type": "stream",
     "text": [
      "TransformerModel(\n",
      "  (encoder): Embedding(28782, 200)\n",
      "  (pos_encoder): PositionalEncoding(\n",
      "    (dropout): Dropout(p=0.2, inplace=False)\n",
      "  )\n",
      "  (transformer_encoder): TransformerEncoder(\n",
      "    (layers): ModuleList(\n",
      "      (0): TransformerEncoderLayer(\n",
      "        (self_attn): MultiheadAttention(\n",
      "          (out_proj): NonDynamicallyQuantizableLinear(in_features=200, out_features=200, bias=True)\n",
      "        )\n",
      "        (linear1): Linear(in_features=200, out_features=200, bias=True)\n",
      "        (dropout): Dropout(p=0.2, inplace=False)\n",
      "        (linear2): Linear(in_features=200, out_features=200, bias=True)\n",
      "        (norm1): LayerNorm((200,), eps=1e-05, elementwise_affine=True)\n",
      "        (norm2): LayerNorm((200,), eps=1e-05, elementwise_affine=True)\n",
      "        (dropout1): Dropout(p=0.2, inplace=False)\n",
      "        (dropout2): Dropout(p=0.2, inplace=False)\n",
      "      )\n",
      "      (1): TransformerEncoderLayer(\n",
      "        (self_attn): MultiheadAttention(\n",
      "          (out_proj): NonDynamicallyQuantizableLinear(in_features=200, out_features=200, bias=True)\n",
      "        )\n",
      "        (linear1): Linear(in_features=200, out_features=200, bias=True)\n",
      "        (dropout): Dropout(p=0.2, inplace=False)\n",
      "        (linear2): Linear(in_features=200, out_features=200, bias=True)\n",
      "        (norm1): LayerNorm((200,), eps=1e-05, elementwise_affine=True)\n",
      "        (norm2): LayerNorm((200,), eps=1e-05, elementwise_affine=True)\n",
      "        (dropout1): Dropout(p=0.2, inplace=False)\n",
      "        (dropout2): Dropout(p=0.2, inplace=False)\n",
      "      )\n",
      "    )\n",
      "  )\n",
      "  (decoder): Linear(in_features=200, out_features=28782, bias=True)\n",
      ")\n"
     ]
    }
   ],
   "source": [
    "ntokens = len(vocab)  # size of vocabulary\n",
    "emsize  = 200  # embedding dimension\n",
    "d_hid   = 200  # dimension of the feedforward network model in nn.TransformerEncoder\n",
    "nlayers = 2  # number of nn.TransformerEncoderLayer in nn.TransformerEncoder\n",
    "nhead   = 2  # number of heads in nn.MultiheadAttention\n",
    "dropout = 0.2  # dropout probability\n",
    "model   = TransformerModel(ntokens, emsize, nhead, d_hid, nlayers, dropout).to(device)\n",
    "print(model)"
   ]
  },
  {
   "cell_type": "markdown",
   "id": "63439b57",
   "metadata": {},
   "source": [
    "# Loss and Optimizer"
   ]
  },
  {
   "cell_type": "code",
   "execution_count": 7,
   "id": "8cd13fbd",
   "metadata": {},
   "outputs": [],
   "source": [
    "criterion = nn.CrossEntropyLoss()\n",
    "lr = 5.0  # learning rate\n",
    "optimizer = torch.optim.SGD(model.parameters(), lr=lr)\n",
    "scheduler = torch.optim.lr_scheduler.StepLR(optimizer, 1.0, gamma=0.95)"
   ]
  },
  {
   "cell_type": "markdown",
   "id": "283b36d2",
   "metadata": {},
   "source": [
    "# Training"
   ]
  },
  {
   "cell_type": "code",
   "execution_count": 8,
   "id": "21e3cf26",
   "metadata": {},
   "outputs": [],
   "source": [
    "def train(model):\n",
    "    model.train()  # turn on train mode\n",
    "    total_loss = 0.\n",
    "    log_interval = 200\n",
    "    start_time = time.time()\n",
    "    src_mask = generate_square_subsequent_mask(bptt).to(device)\n",
    "\n",
    "    num_batches = len(train_data) // bptt\n",
    "    for batch, i in enumerate(range(0, train_data.size(0) - 1, bptt)):\n",
    "        data, targets = get_batch(train_data, i)\n",
    "        batch_size = data.size(0)\n",
    "        if batch_size != bptt:  # only on last batch\n",
    "            src_mask = src_mask[:batch_size, :batch_size]\n",
    "        output = model(data, src_mask)\n",
    "        loss = criterion(output.view(-1, ntokens), targets)\n",
    "\n",
    "        optimizer.zero_grad()\n",
    "        loss.backward()\n",
    "        torch.nn.utils.clip_grad_norm_(model.parameters(), 0.5)\n",
    "        optimizer.step()\n",
    "\n",
    "        total_loss += loss.item()\n",
    "        if batch % log_interval == 0 and batch > 0:\n",
    "            lr = scheduler.get_last_lr()[0]\n",
    "            ms_per_batch = (time.time() - start_time) * 1000 / log_interval\n",
    "            cur_loss = total_loss / log_interval\n",
    "            ppl = math.exp(cur_loss)\n",
    "            print(f'| epoch {epoch:3d} | {batch:5d}/{num_batches:5d} batches | 'f'lr {lr:02.2f} | ms/batch {ms_per_batch:5.2f} | 'f'loss {cur_loss:5.2f} | ppl {ppl:8.2f}')\n",
    "            total_loss = 0\n",
    "            start_time = time.time()"
   ]
  },
  {
   "cell_type": "markdown",
   "id": "d8baa36b",
   "metadata": {},
   "source": [
    "# Evaluation"
   ]
  },
  {
   "cell_type": "code",
   "execution_count": 9,
   "id": "ec184cb2",
   "metadata": {},
   "outputs": [],
   "source": [
    "def evaluate(model, eval_data):\n",
    "    model.eval()  # turn on evaluation mode\n",
    "    total_loss = 0.\n",
    "    src_mask = generate_square_subsequent_mask(bptt).to(device)\n",
    "    with torch.no_grad():\n",
    "        for i in range(0, eval_data.size(0) - 1, bptt):\n",
    "            data, targets = get_batch(eval_data, i)\n",
    "            batch_size = data.size(0)\n",
    "            if batch_size != bptt:\n",
    "                src_mask = src_mask[:batch_size, :batch_size]\n",
    "            output = model(data, src_mask)\n",
    "            output_flat = output.view(-1, ntokens)\n",
    "            total_loss += batch_size * criterion(output_flat, targets).item()\n",
    "    return total_loss / (len(eval_data) - 1)"
   ]
  },
  {
   "cell_type": "markdown",
   "id": "b85f7f79",
   "metadata": {},
   "source": [
    "# Main"
   ]
  },
  {
   "cell_type": "code",
   "execution_count": 10,
   "id": "49cc3127",
   "metadata": {},
   "outputs": [
    {
     "name": "stdout",
     "output_type": "stream",
     "text": [
      "| epoch   1 |   200/ 2928 batches | lr 5.00 | ms/batch 12.11 | loss  8.19 | ppl  3597.01\n",
      "| epoch   1 |   400/ 2928 batches | lr 5.00 | ms/batch  9.85 | loss  6.92 | ppl  1013.32\n",
      "| epoch   1 |   600/ 2928 batches | lr 5.00 | ms/batch  9.85 | loss  6.45 | ppl   632.88\n",
      "| epoch   1 |   800/ 2928 batches | lr 5.00 | ms/batch  9.85 | loss  6.31 | ppl   550.48\n",
      "| epoch   1 |  1000/ 2928 batches | lr 5.00 | ms/batch  9.87 | loss  6.20 | ppl   492.53\n",
      "| epoch   1 |  1200/ 2928 batches | lr 5.00 | ms/batch  9.88 | loss  6.16 | ppl   475.53\n",
      "| epoch   1 |  1400/ 2928 batches | lr 5.00 | ms/batch  9.88 | loss  6.12 | ppl   455.88\n",
      "| epoch   1 |  1600/ 2928 batches | lr 5.00 | ms/batch  9.87 | loss  6.11 | ppl   449.94\n",
      "| epoch   1 |  1800/ 2928 batches | lr 5.00 | ms/batch  9.87 | loss  6.02 | ppl   413.02\n",
      "| epoch   1 |  2000/ 2928 batches | lr 5.00 | ms/batch 10.09 | loss  6.02 | ppl   411.86\n",
      "| epoch   1 |  2200/ 2928 batches | lr 5.00 | ms/batch 10.40 | loss  5.90 | ppl   364.42\n",
      "| epoch   1 |  2400/ 2928 batches | lr 5.00 | ms/batch 10.11 | loss  5.98 | ppl   394.22\n",
      "| epoch   1 |  2600/ 2928 batches | lr 5.00 | ms/batch  9.91 | loss  5.95 | ppl   384.09\n",
      "| epoch   1 |  2800/ 2928 batches | lr 5.00 | ms/batch  9.88 | loss  5.88 | ppl   357.36\n",
      "-----------------------------------------------------------------------------------------\n",
      "| end of epoch   1 | time: 30.83s | valid loss  5.81 | valid ppl   332.77\n",
      "-----------------------------------------------------------------------------------------\n",
      "| epoch   2 |   200/ 2928 batches | lr 4.75 | ms/batch  9.94 | loss  5.87 | ppl   352.57\n",
      "| epoch   2 |   400/ 2928 batches | lr 4.75 | ms/batch  9.88 | loss  5.85 | ppl   348.69\n",
      "| epoch   2 |   600/ 2928 batches | lr 4.75 | ms/batch  9.89 | loss  5.67 | ppl   288.97\n",
      "| epoch   2 |   800/ 2928 batches | lr 4.75 | ms/batch 10.24 | loss  5.70 | ppl   300.35\n",
      "| epoch   2 |  1000/ 2928 batches | lr 4.75 | ms/batch  9.95 | loss  5.65 | ppl   285.26\n",
      "| epoch   2 |  1200/ 2928 batches | lr 4.75 | ms/batch 10.15 | loss  5.68 | ppl   292.81\n",
      "| epoch   2 |  1400/ 2928 batches | lr 4.75 | ms/batch 10.22 | loss  5.69 | ppl   295.65\n",
      "| epoch   2 |  1600/ 2928 batches | lr 4.75 | ms/batch 10.24 | loss  5.71 | ppl   301.75\n",
      "| epoch   2 |  1800/ 2928 batches | lr 4.75 | ms/batch  9.89 | loss  5.65 | ppl   285.02\n",
      "| epoch   2 |  2000/ 2928 batches | lr 4.75 | ms/batch  9.90 | loss  5.67 | ppl   290.51\n",
      "| epoch   2 |  2200/ 2928 batches | lr 4.75 | ms/batch  9.90 | loss  5.55 | ppl   258.16\n",
      "| epoch   2 |  2400/ 2928 batches | lr 4.75 | ms/batch 10.47 | loss  5.65 | ppl   285.13\n",
      "| epoch   2 |  2600/ 2928 batches | lr 4.75 | ms/batch 10.35 | loss  5.65 | ppl   283.73\n",
      "| epoch   2 |  2800/ 2928 batches | lr 4.75 | ms/batch 10.09 | loss  5.58 | ppl   265.01\n",
      "-----------------------------------------------------------------------------------------\n",
      "| end of epoch   2 | time: 30.77s | valid loss  5.65 | valid ppl   285.30\n",
      "-----------------------------------------------------------------------------------------\n",
      "| epoch   3 |   200/ 2928 batches | lr 4.51 | ms/batch  9.95 | loss  5.61 | ppl   272.49\n",
      "| epoch   3 |   400/ 2928 batches | lr 4.51 | ms/batch  9.91 | loss  5.63 | ppl   278.59\n",
      "| epoch   3 |   600/ 2928 batches | lr 4.51 | ms/batch 10.08 | loss  5.42 | ppl   225.51\n",
      "| epoch   3 |   800/ 2928 batches | lr 4.51 | ms/batch 10.08 | loss  5.49 | ppl   241.85\n",
      "| epoch   3 |  1000/ 2928 batches | lr 4.51 | ms/batch 10.05 | loss  5.44 | ppl   231.38\n",
      "| epoch   3 |  1200/ 2928 batches | lr 4.51 | ms/batch 10.11 | loss  5.48 | ppl   240.49\n",
      "| epoch   3 |  1400/ 2928 batches | lr 4.51 | ms/batch  9.99 | loss  5.49 | ppl   242.91\n",
      "| epoch   3 |  1600/ 2928 batches | lr 4.51 | ms/batch 10.28 | loss  5.52 | ppl   249.26\n",
      "| epoch   3 |  1800/ 2928 batches | lr 4.51 | ms/batch 10.13 | loss  5.47 | ppl   237.24\n",
      "| epoch   3 |  2000/ 2928 batches | lr 4.51 | ms/batch 10.12 | loss  5.51 | ppl   246.16\n",
      "| epoch   3 |  2200/ 2928 batches | lr 4.51 | ms/batch  9.97 | loss  5.36 | ppl   212.90\n",
      "| epoch   3 |  2400/ 2928 batches | lr 4.51 | ms/batch  9.89 | loss  5.47 | ppl   236.43\n",
      "| epoch   3 |  2600/ 2928 batches | lr 4.51 | ms/batch  9.90 | loss  5.47 | ppl   238.53\n",
      "| epoch   3 |  2800/ 2928 batches | lr 4.51 | ms/batch 10.10 | loss  5.41 | ppl   224.53\n",
      "-----------------------------------------------------------------------------------------\n",
      "| end of epoch   3 | time: 30.69s | valid loss  5.61 | valid ppl   273.46\n",
      "-----------------------------------------------------------------------------------------\n"
     ]
    }
   ],
   "source": [
    "best_val_loss = float('inf')\n",
    "epochs = 3\n",
    "best_model = None\n",
    "\n",
    "for epoch in range(1, epochs + 1):\n",
    "    epoch_start_time = time.time()\n",
    "    train(model)\n",
    "    val_loss = evaluate(model, val_data)\n",
    "    val_ppl = math.exp(val_loss)\n",
    "    elapsed = time.time() - epoch_start_time\n",
    "    print('-' * 89)\n",
    "    print(f'| end of epoch {epoch:3d} | time: {elapsed:5.2f}s | 'f'valid loss {val_loss:5.2f} | valid ppl {val_ppl:8.2f}')\n",
    "    print('-' * 89)\n",
    "\n",
    "    if val_loss < best_val_loss:\n",
    "        best_val_loss = val_loss\n",
    "        best_model = copy.deepcopy(model)\n",
    "\n",
    "    scheduler.step()"
   ]
  },
  {
   "cell_type": "markdown",
   "id": "79fd97c8",
   "metadata": {},
   "source": [
    "# Evalutation on Test set for the Best Model"
   ]
  },
  {
   "cell_type": "code",
   "execution_count": 12,
   "id": "7a2bddcb",
   "metadata": {},
   "outputs": [
    {
     "name": "stdout",
     "output_type": "stream",
     "text": [
      "=========================================================================================\n",
      "The End: test loss  5.52, test ppl:   250.35\n",
      "=========================================================================================\n"
     ]
    }
   ],
   "source": [
    "test_loss = evaluate(best_model, test_data)\n",
    "test_ppl = math.exp(test_loss)\n",
    "print('=' * 89)\n",
    "print(f'The End: test loss {test_loss:5.2f}, 'f'test ppl: {test_ppl:8.2f}')\n",
    "print('=' * 89)"
   ]
  },
  {
   "cell_type": "code",
   "execution_count": null,
   "id": "7f7dd286",
   "metadata": {},
   "outputs": [],
   "source": []
  },
  {
   "cell_type": "code",
   "execution_count": null,
   "id": "524c78cd",
   "metadata": {},
   "outputs": [],
   "source": []
  },
  {
   "cell_type": "code",
   "execution_count": null,
   "id": "89cfb902",
   "metadata": {},
   "outputs": [],
   "source": []
  }
 ],
 "metadata": {
  "kernelspec": {
   "display_name": "Python [conda env:torch] *",
   "language": "python",
   "name": "conda-env-torch-py"
  },
  "language_info": {
   "codemirror_mode": {
    "name": "ipython",
    "version": 3
   },
   "file_extension": ".py",
   "mimetype": "text/x-python",
   "name": "python",
   "nbconvert_exporter": "python",
   "pygments_lexer": "ipython3",
   "version": "3.8.10"
  }
 },
 "nbformat": 4,
 "nbformat_minor": 5
}
