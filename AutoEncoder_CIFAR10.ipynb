{
 "cells": [
  {
   "cell_type": "markdown",
   "metadata": {},
   "source": [
    "# Vanilla AutoEncoder Example with CIFAR10"
   ]
  },
  {
   "cell_type": "markdown",
   "metadata": {},
   "source": [
    "# Imports"
   ]
  },
  {
   "cell_type": "code",
   "execution_count": 1,
   "metadata": {},
   "outputs": [
    {
     "name": "stdout",
     "output_type": "stream",
     "text": [
      "Using device: cuda\n"
     ]
    }
   ],
   "source": [
    "import torch, torchvision, time\n",
    "import torch.nn as nn\n",
    "import torch.optim as optim\n",
    "import torchvision.datasets as datasets\n",
    "import torchvision.transforms as transforms\n",
    "import matplotlib.pyplot as plt\n",
    "import numpy as np\n",
    "torch.manual_seed(547)\n",
    "\n",
    "device = torch.device('cuda' if torch.cuda.is_available() else 'cpu')\n",
    "print('Using device:', device)"
   ]
  },
  {
   "cell_type": "markdown",
   "metadata": {},
   "source": [
    "# Configurations"
   ]
  },
  {
   "cell_type": "code",
   "execution_count": 2,
   "metadata": {},
   "outputs": [],
   "source": [
    "EPOCHS = 5\n",
    "BATCH_SIZE = 32\n",
    "LR = 1e-3\n",
    "WEIGHT_DECAY = 0"
   ]
  },
  {
   "cell_type": "markdown",
   "metadata": {},
   "source": [
    "# Dataloader and Pre-processing"
   ]
  },
  {
   "cell_type": "code",
   "execution_count": 3,
   "metadata": {},
   "outputs": [
    {
     "name": "stdout",
     "output_type": "stream",
     "text": [
      "Files already downloaded and verified\n",
      "Files already downloaded and verified\n"
     ]
    }
   ],
   "source": [
    "transform = transforms.Compose([transforms.ToTensor()])\n",
    "\n",
    "train = datasets.CIFAR10(root=\"./data\", train=True,  download=True, transform=transform)\n",
    "test  = datasets.CIFAR10(root=\"./data\", train=False, download=True, transform=transform)\n",
    "\n",
    "train_loader = torch.utils.data.DataLoader(train, batch_size=BATCH_SIZE, shuffle=True)\n",
    "test_loader  = torch.utils.data.DataLoader(test,  batch_size=BATCH_SIZE, shuffle=False)"
   ]
  },
  {
   "cell_type": "markdown",
   "metadata": {},
   "source": [
    "# Model"
   ]
  },
  {
   "cell_type": "markdown",
   "metadata": {},
   "source": [
    "### Encoder"
   ]
  },
  {
   "cell_type": "code",
   "execution_count": 4,
   "metadata": {},
   "outputs": [],
   "source": [
    "class encoder(nn.Module):\n",
    "    def __init__(self, in_channel=3):\n",
    "        super(encoder, self).__init__()\n",
    "        self.down_sample1 = nn.Conv2d(in_channels=in_channel, out_channels=16, kernel_size=3, stride=2, padding=1)\n",
    "        self.relu1 = nn.ReLU(inplace=True)\n",
    "        self.down_sample2 = nn.Conv2d(in_channels=16, out_channels=16, kernel_size=3, stride=1, padding=1)\n",
    "        self.relu2 = nn.ReLU(inplace=True)\n",
    "        self.down_sample3 = nn.Conv2d(in_channels=16, out_channels=32, kernel_size=3, stride=2, padding=1)\n",
    "        self.relu3 = nn.ReLU(inplace=True)\n",
    "        self.down_sample4 = nn.Conv2d(in_channels=32, out_channels=32, kernel_size=3, stride=1, padding=1)\n",
    "        self.relu4 = nn.ReLU(inplace=True)\n",
    "        self.down_sample5 = nn.Conv2d(in_channels=32, out_channels=64, kernel_size=3, stride=2, padding=1)\n",
    "        self.relu5 = nn.ReLU(inplace=True)\n",
    "        self.fc = nn.Linear(64*4*4, latent_dim)\n",
    "        \n",
    "    def forward(self, x):\n",
    "        #print(f\"x: {x.shape}\")\n",
    "        x = self.down_sample1(x)\n",
    "        #print(f\"down_sample1: {x.shape}\")\n",
    "        x = self.relu1(x)\n",
    "        \n",
    "        x = self.down_sample2(x)\n",
    "        #print(f\"down_sample2: {x.shape}\")\n",
    "        x = self.relu2(x)\n",
    "        \n",
    "        x = self.down_sample3(x)\n",
    "        #print(f\"down_sample3: {x.shape}\")\n",
    "        x = self.relu3(x)\n",
    "        \n",
    "        x = self.down_sample4(x)\n",
    "        #print(f\"down_sample4: {x.shape}\")\n",
    "        x = self.relu4(x)\n",
    "        \n",
    "        x = self.down_sample5(x)\n",
    "        #print(f\"down_sample5: {x.shape}\")\n",
    "        out = self.relu5(x)\n",
    "        \n",
    "        return out\n",
    "        "
   ]
  },
  {
   "cell_type": "markdown",
   "metadata": {},
   "source": [
    "### Decoder"
   ]
  },
  {
   "cell_type": "code",
   "execution_count": 5,
   "metadata": {},
   "outputs": [],
   "source": [
    "class decoder(nn.Module):\n",
    "    def __init__(self, in_channels=8):\n",
    "        super(decoder, self).__init__()\n",
    "        self.up_sample1 = nn.ConvTranspose2d(in_channels=64, out_channels= 32, kernel_size=3, stride=2, padding=1, output_padding=1)\n",
    "        self.relu1 = nn.ReLU(inplace=True)\n",
    "        self.up_sample2 = nn.ConvTranspose2d(in_channels=32, out_channels= 32, kernel_size=3, stride=1, padding=1, output_padding=0)\n",
    "        self.relu2 = nn.ReLU(inplace=True)\n",
    "        self.up_sample3 = nn.ConvTranspose2d(in_channels=32, out_channels= 16, kernel_size=3, stride=2, padding=1, output_padding=1)\n",
    "        self.relu3 = nn.ReLU(inplace=True)\n",
    "        self.up_sample4 = nn.ConvTranspose2d(in_channels=16, out_channels= 16, kernel_size=3, stride=1, padding=1, output_padding=0)\n",
    "        self.relu4 = nn.ReLU(inplace=True)\n",
    "        self.up_sample5 = nn.ConvTranspose2d(in_channels=16, out_channels= 3,  kernel_size=3, stride=2, padding=1, output_padding=1)\n",
    "        \n",
    "    def forward(self, x):\n",
    "        x = self.up_sample1(x)\n",
    "        #print(f\"up_sample1: {x.shape}\")\n",
    "        x = self.relu1(x)\n",
    "        \n",
    "        x = self.up_sample2(x)\n",
    "        #print(f\"up_sample2: {x.shape}\")\n",
    "        x = self.relu2(x)\n",
    "        \n",
    "        x = self.up_sample3(x)\n",
    "        #print(f\"up_sample3: {x.shape}\")\n",
    "        x = self.relu3(x)\n",
    "        \n",
    "        x = self.up_sample4(x)\n",
    "        #print(f\"up_sample4: {x.shape}\")\n",
    "        x = self.relu4(x)\n",
    "        \n",
    "        out = self.up_sample5(x)\n",
    "        #print(f\"up_sample5: {x.shape}\")\n",
    "        \n",
    "        return out"
   ]
  },
  {
   "cell_type": "markdown",
   "metadata": {},
   "source": [
    "### AutoEncoder"
   ]
  },
  {
   "cell_type": "code",
   "execution_count": 6,
   "metadata": {},
   "outputs": [],
   "source": [
    "class autoencoder(nn.Module):\n",
    "    def __init__(self):\n",
    "        super(autoencoder, self).__init__()\n",
    "        self.encoder = encoder()\n",
    "        self.fc1 = nn.Linear(64*4*4, 8)\n",
    "        self.fc2 = nn.Linear(8, 64*4*4)\n",
    "        self.relu = nn.ReLU(inplace=True)\n",
    "        self.decoder = decoder()\n",
    "        self.sigmoid = nn.Sigmoid()\n",
    "        \n",
    "    def forward(self, x):\n",
    "        x = self.encoder(x)\n",
    "        #print(f\"encoder: {x.shape}\")\n",
    "        x = x.view(x.shape[0], -1)\n",
    "        #print(f\"x: {x.shape}\")\n",
    "        x = self.fc1(x)\n",
    "        #print(f\"fc1: {x.shape}\")\n",
    "        x = self.fc2(x)\n",
    "        #print(f\"fc2: {x.shape}\")\n",
    "        x = x.reshape(x.shape[0], -1, 4, 4)\n",
    "        #print(f\"x: {x.shape}\")\n",
    "        x = self.decoder(x)\n",
    "        #print(f\"decoder: {x.shape}\")\n",
    "        out = self.sigmoid(x)\n",
    "        \n",
    "        return out\n",
    "        \n",
    "model = autoencoder().to(device)"
   ]
  },
  {
   "cell_type": "markdown",
   "metadata": {},
   "source": [
    "# Loss and Optimizer"
   ]
  },
  {
   "cell_type": "code",
   "execution_count": 7,
   "metadata": {},
   "outputs": [],
   "source": [
    "criterion = nn.MSELoss()\n",
    "optimizer = optim.Adam(model.parameters(), lr=LR, weight_decay=WEIGHT_DECAY)\n",
    "scheduler = optim.lr_scheduler.MultiStepLR(optimizer, milestones=[5,10,12,15], gamma=0.1)"
   ]
  },
  {
   "cell_type": "markdown",
   "metadata": {},
   "source": [
    "# Training"
   ]
  },
  {
   "cell_type": "code",
   "execution_count": 8,
   "metadata": {},
   "outputs": [
    {
     "name": "stdout",
     "output_type": "stream",
     "text": [
      "Epoch [1/5], loss:0.0280 in 9.37s\n",
      "Epoch [2/5], loss:0.0239 in 9.14s\n",
      "Epoch [3/5], loss:0.0230 in 9.14s\n",
      "Epoch [4/5], loss:0.0228 in 9.10s\n",
      "Epoch [5/5], loss:0.0227 in 9.11s\n"
     ]
    }
   ],
   "source": [
    "outputs = []\n",
    "losses = []\n",
    "for epoch in range(EPOCHS):\n",
    "    running_train_loss = 0\n",
    "    start_time = time.time()\n",
    "    for image, target in train_loader:\n",
    "        image, _ = image.to(device), target.to(device)\n",
    "        \n",
    "        output = model(image)\n",
    "        loss = criterion(output, image)\n",
    "        optimizer.zero_grad()\n",
    "        loss.backward()\n",
    "        optimizer.step()\n",
    "        running_train_loss += loss.item()\n",
    "        \n",
    "    outputs.append((epoch+1, image[0], output[0]))\n",
    "    loss = running_train_loss / len(train_loader)\n",
    "    losses.append(loss)\n",
    "    end_time = time.time()\n",
    "    #scheduler.step()\n",
    "    print(f\"Epoch [{epoch+1}/{EPOCHS}], loss:{loss:.4f} in {(end_time-start_time):.2f}s\")"
   ]
  },
  {
   "cell_type": "markdown",
   "metadata": {},
   "source": [
    "# Evaluation"
   ]
  },
  {
   "cell_type": "code",
   "execution_count": 9,
   "metadata": {},
   "outputs": [
    {
     "name": "stdout",
     "output_type": "stream",
     "text": [
      "loss: 0.02517\n",
      "Original Images\n"
     ]
    },
    {
     "data": {
      "image/png": "[encoded data removed]",
      "text/plain": [
       "<Figure size 864x288 with 10 Axes>"
      ]
     },
     "metadata": {
      "needs_background": "light"
     },
     "output_type": "display_data"
    },
    {
     "name": "stdout",
     "output_type": "stream",
     "text": [
      "Reconstructed Images\n"
     ]
    },
    {
     "data": {
      "image/png": "[encoded data removed]",
      "text/plain": [
       "<Figure size 864x288 with 10 Axes>"
      ]
     },
     "metadata": {
      "needs_background": "light"
     },
     "output_type": "display_data"
    }
   ],
   "source": [
    "classes = ['airplane', 'automobile', 'bird', 'cat', 'deer', 'dog', 'frog', 'horse', 'ship', 'truck']\n",
    "#Batch of test images\n",
    "dataiter = iter(test_loader)\n",
    "images, labels = dataiter.next()\n",
    "\n",
    "#Sample outputs\n",
    "output = model(images.to(device))\n",
    "print(f\"loss: {criterion(images.to(device), output.to(device)):.5f}\")\n",
    "images = images.permute(0, 2, 3, 1).numpy()\n",
    "output = output.cpu().permute(0, 2, 3, 1).detach().numpy()\n",
    "#Original Images\n",
    "print(\"Original Images\")\n",
    "fig, axes = plt.subplots(nrows=1, ncols=5, sharex=True, sharey=True, figsize=(12,4))\n",
    "for idx in range(5):\n",
    "    ax = fig.add_subplot(1, 5, idx+1, xticks=[], yticks=[])\n",
    "    plt.imshow(images[idx])\n",
    "    ax.set_title(classes[labels[idx]])\n",
    "plt.show()\n",
    "\n",
    "#Reconstructed Images\n",
    "print('Reconstructed Images')\n",
    "fig, axes = plt.subplots(nrows=1, ncols=5, sharex=True, sharey=True, figsize=(12,4))\n",
    "for idx in range(5):\n",
    "    ax = fig.add_subplot(1, 5, idx+1, xticks=[], yticks=[])\n",
    "    plt.imshow(output[idx])\n",
    "    ax.set_title(classes[labels[idx]])\n",
    "plt.show() "
   ]
  },
  {
   "cell_type": "code",
   "execution_count": null,
   "metadata": {},
   "outputs": [],
   "source": []
  }
 ],
 "metadata": {
  "@webio": {
   "lastCommId": null,
   "lastKernelId": null
  },
  "kernelspec": {
   "display_name": "Python 3",
   "language": "python",
   "name": "python3"
  },
  "language_info": {
   "codemirror_mode": {
    "name": "ipython",
    "version": 3
   },
   "file_extension": ".py",
   "mimetype": "text/x-python",
   "name": "python",
   "nbconvert_exporter": "python",
   "pygments_lexer": "ipython3",
   "version": "3.8.10"
  }
 },
 "nbformat": 4,
 "nbformat_minor": 4
}
