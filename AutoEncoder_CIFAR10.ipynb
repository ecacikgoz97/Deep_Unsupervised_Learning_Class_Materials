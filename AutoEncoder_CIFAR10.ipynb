{
 "cells": [
  {
   "cell_type": "markdown",
   "metadata": {},
   "source": [
    "# Vanilla AutoEncoder Example with CIFAR10\n",
    "### Emre Can Acikgoz"
   ]
  },
  {
   "cell_type": "markdown",
   "metadata": {},
   "source": [
    "# Imports"
   ]
  },
  {
   "cell_type": "code",
   "execution_count": 1,
   "metadata": {},
   "outputs": [
    {
     "name": "stdout",
     "output_type": "stream",
     "text": [
      "Using device: cpu\n"
     ]
    }
   ],
   "source": [
    "import torch, torchvision\n",
    "import torch.nn as nn\n",
    "import torch.optim as optim\n",
    "import torchvision.datasets as datasets\n",
    "import torchvision.transforms as transforms\n",
    "\n",
    "device = torch.device('cuda' if torch.cuda.is_available() else 'cpu')\n",
    "print('Using device:', device)"
   ]
  },
  {
   "cell_type": "markdown",
   "metadata": {},
   "source": [
    "# Configurations"
   ]
  },
  {
   "cell_type": "code",
   "execution_count": 2,
   "metadata": {},
   "outputs": [],
   "source": [
    "EPOCHS = 5\n",
    "BATCH_SIZE = 32\n",
    "LR = 1e-3\n",
    "WEIGHT_DECAY = 0"
   ]
  },
  {
   "cell_type": "markdown",
   "metadata": {},
   "source": [
    "# Dataloader and Pre-processing"
   ]
  },
  {
   "cell_type": "code",
   "execution_count": 3,
   "metadata": {},
   "outputs": [
    {
     "name": "stdout",
     "output_type": "stream",
     "text": [
      "Files already downloaded and verified\n",
      "Files already downloaded and verified\n"
     ]
    }
   ],
   "source": [
    "transform = transforms.Compose([transforms.ToTensor(), \n",
    "                                transforms.Normalize((0.4914, 0.4822, 0.4466), (0.247,0.243, 0.261))])\n",
    "\n",
    "train = datasets.CIFAR10(root=\"./data\", train=True,  download=True, transform=transform)\n",
    "test  = datasets.CIFAR10(root=\"./data\", train=False, download=True, transform=transform)\n",
    "\n",
    "train_loader = torch.utils.data.DataLoader(train, batch_size=BATCH_SIZE, shuffle=True)\n",
    "test_loader  = torch.utils.data.DataLoader(test,  batch_size=BATCH_SIZE, shuffle=False)"
   ]
  },
  {
   "cell_type": "markdown",
   "metadata": {},
   "source": [
    "# Model"
   ]
  },
  {
   "cell_type": "markdown",
   "metadata": {},
   "source": [
    "### Encoder"
   ]
  },
  {
   "cell_type": "code",
   "execution_count": 4,
   "metadata": {},
   "outputs": [],
   "source": [
    "class encoder(nn.Module):\n",
    "    def __init__(self, in_channel=3, latent_dim=8):\n",
    "        super(encoder, self).__init__()\n",
    "        self.down_sample1 = nn.Conv2d(in_channels=in_channel, out_channels=16, kernel_size=3, stride=2, padding=1)\n",
    "        self.relu1 = nn.ReLU(inplace=True)\n",
    "        self.down_sample2 = nn.Conv2d(in_channels=16, out_channels=16, kernel_size=3, stride=1, padding=1)\n",
    "        self.relu2 = nn.ReLU(inplace=True)\n",
    "        self.down_sample3 = nn.Conv2d(in_channels=16, out_channels=32, kernel_size=3, stride=2, padding=1)\n",
    "        self.relu3 = nn.ReLU(inplace=True)\n",
    "        self.down_sample4 = nn.Conv2d(in_channels=32, out_channels=32, kernel_size=3, stride=1, padding=1)\n",
    "        self.relu4 = nn.ReLU(inplace=True)\n",
    "        self.down_sample5 = nn.Conv2d(in_channels=32, out_channels=64, kernel_size=3, stride=2, padding=1)\n",
    "        self.relu5 = nn.ReLU(inplace=True)\n",
    "        self.fc = nn.Linear(64*4*4, latent_dim)\n",
    "        \n",
    "    def forward(self, x):\n",
    "        #print(f\"x: {x.shape}\")\n",
    "        x = self.down_sample1(x)\n",
    "        #print(f\"down_sample1: {x.shape}\")\n",
    "        x = self.relu1(x)\n",
    "        \n",
    "        x = self.down_sample2(x)\n",
    "        #print(f\"down_sample2: {x.shape}\")\n",
    "        x = self.relu2(x)\n",
    "        \n",
    "        x = self.down_sample3(x)\n",
    "        #print(f\"down_sample3: {x.shape}\")\n",
    "        x = self.relu3(x)\n",
    "        \n",
    "        x = self.down_sample4(x)\n",
    "        #print(f\"down_sample4: {x.shape}\")\n",
    "        x = self.relu4(x)\n",
    "        \n",
    "        x = self.down_sample5(x)\n",
    "        #print(f\"down_sample5: {x.shape}\")\n",
    "        out = self.relu5(x)\n",
    "        \n",
    "        return out\n",
    "        "
   ]
  },
  {
   "cell_type": "markdown",
   "metadata": {},
   "source": [
    "### Decoder"
   ]
  },
  {
   "cell_type": "code",
   "execution_count": 5,
   "metadata": {},
   "outputs": [],
   "source": [
    "class decoder(nn.Module):\n",
    "    def __init__(self, in_channels=8):\n",
    "        super(decoder, self).__init__()\n",
    "        self.up_sample1 = nn.ConvTranspose2d(in_channels=64, out_channels= 32, kernel_size=3, stride=2, padding=1, output_padding=1)\n",
    "        self.relu1 = nn.ReLU(inplace=True)\n",
    "        self.up_sample2 = nn.ConvTranspose2d(in_channels=32, out_channels= 32, kernel_size=3, stride=1, padding=1, output_padding=0)\n",
    "        self.relu2 = nn.ReLU(inplace=True)\n",
    "        self.up_sample3 = nn.ConvTranspose2d(in_channels=32, out_channels= 16, kernel_size=3, stride=2, padding=1, output_padding=1)\n",
    "        self.relu3 = nn.ReLU(inplace=True)\n",
    "        self.up_sample4 = nn.ConvTranspose2d(in_channels=16, out_channels= 16, kernel_size=3, stride=1, padding=1, output_padding=0)\n",
    "        self.relu4 = nn.ReLU(inplace=True)\n",
    "        self.up_sample5 = nn.ConvTranspose2d(in_channels=16, out_channels= 3,  kernel_size=3, stride=2, padding=1, output_padding=1)\n",
    "        \n",
    "    def forward(self, x):\n",
    "        x = self.up_sample1(x)\n",
    "        #print(f\"up_sample1: {x.shape}\")\n",
    "        x = self.relu1(x)\n",
    "        \n",
    "        x = self.up_sample2(x)\n",
    "        #print(f\"up_sample2: {x.shape}\")\n",
    "        x = self.relu2(x)\n",
    "        \n",
    "        x = self.up_sample3(x)\n",
    "        #print(f\"up_sample3: {x.shape}\")\n",
    "        x = self.relu3(x)\n",
    "        \n",
    "        x = self.up_sample4(x)\n",
    "        #print(f\"up_sample4: {x.shape}\")\n",
    "        x = self.relu4(x)\n",
    "        \n",
    "        out = self.up_sample5(x)\n",
    "        #print(f\"up_sample5: {x.shape}\")\n",
    "        \n",
    "        return out"
   ]
  },
  {
   "cell_type": "markdown",
   "metadata": {},
   "source": [
    "### AutoEncoder"
   ]
  },
  {
   "cell_type": "code",
   "execution_count": 6,
   "metadata": {},
   "outputs": [],
   "source": [
    "class autoencoder(nn.Module):\n",
    "    def __init__(self):\n",
    "        super(autoencoder, self).__init__()\n",
    "        self.encoder = encoder()\n",
    "        self.fc1 = nn.Linear(64*4*4, 8)\n",
    "        self.fc2 = nn.Linear(8, 64*4*4)\n",
    "        self.relu = nn.ReLU(inplace=True)\n",
    "        self.decoder = decoder()\n",
    "        self.sigmoid = nn.Sigmoid()\n",
    "        \n",
    "    def forward(self, x):\n",
    "        x = self.encoder(x)\n",
    "        #print(f\"encoder: {x.shape}\")\n",
    "        x = x.view(x.shape[0], -1)\n",
    "        #print(f\"x: {x.shape}\")\n",
    "        x = self.fc1(x)\n",
    "        #print(f\"fc1: {x.shape}\")\n",
    "        x = self.fc2(x)\n",
    "        #print(f\"fc2: {x.shape}\")\n",
    "        x = x.reshape(x.shape[0], -1, 4, 4)\n",
    "        #print(f\"x: {x.shape}\")\n",
    "        x = self.decoder(x)\n",
    "        #print(f\"decoder: {x.shape}\")\n",
    "        out = self.sigmoid(x)\n",
    "        \n",
    "        return out\n",
    "        \n",
    "model = autoencoder().to(device)"
   ]
  },
  {
   "cell_type": "markdown",
   "metadata": {},
   "source": [
    "# Loss and Optimizer"
   ]
  },
  {
   "cell_type": "code",
   "execution_count": 7,
   "metadata": {},
   "outputs": [],
   "source": [
    "criterion = nn.MSELoss()\n",
    "optimizer = optim.Adam(model.parameters(), lr=LR, weight_decay=WEIGHT_DECAY)\n",
    "scheduler = optim.lr_scheduler.MultiStepLR(optimizer, milestones=[10,20], gamma=0.1)"
   ]
  },
  {
   "cell_type": "markdown",
   "metadata": {},
   "source": [
    "# Training"
   ]
  },
  {
   "cell_type": "code",
   "execution_count": null,
   "metadata": {},
   "outputs": [
    {
     "name": "stdout",
     "output_type": "stream",
     "text": [
      "Epoch [1/5], loss:0.6809\n",
      "Epoch [2/5], loss:0.6734\n"
     ]
    }
   ],
   "source": [
    "for epoch in range(EPOCHS):\n",
    "    running_train_loss = 0\n",
    "    losses = []\n",
    "    outputs = []\n",
    "    for image, target in train_loader:\n",
    "        image, _ = image.to(device), target.to(device)\n",
    "        \n",
    "        output = model(image)\n",
    "        loss = criterion(output, image)\n",
    "        \n",
    "        optimizer.zero_grad()\n",
    "        loss.backward()\n",
    "        optimizer.step()\n",
    "        running_train_loss += loss.item()\n",
    "        outputs.append((epoch+1, image, output))\n",
    "    loss = running_train_loss / len(train_loader)\n",
    "    losses.append(loss)\n",
    "    print(f\"Epoch [{epoch+1}/{EPOCHS}], loss:{loss:.4f}\")"
   ]
  },
  {
   "cell_type": "code",
   "execution_count": null,
   "metadata": {},
   "outputs": [],
   "source": []
  }
 ],
 "metadata": {
  "@webio": {
   "lastCommId": null,
   "lastKernelId": null
  },
  "kernelspec": {
   "display_name": "Python 3",
   "language": "python",
   "name": "python3"
  },
  "language_info": {
   "codemirror_mode": {
    "name": "ipython",
    "version": 3
   },
   "file_extension": ".py",
   "mimetype": "text/x-python",
   "name": "python",
   "nbconvert_exporter": "python",
   "pygments_lexer": "ipython3",
   "version": "3.8.5"
  }
 },
 "nbformat": 4,
 "nbformat_minor": 4
}
